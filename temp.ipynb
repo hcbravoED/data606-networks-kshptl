{
 "cells": [
  {
   "cell_type": "code",
   "execution_count": 89,
   "metadata": {},
   "outputs": [],
   "source": [
    "import numpy as np\n",
    "from collections import deque\n",
    "mat = np.array([[0, 1, 1, 0, 0, 0, 0],\n",
    "       [1, 0, 1, 0, 0, 0, 0],\n",
    "       [1, 1, 0, 0, 0, 0, 0],\n",
    "       [0, 0, 0, 0, 1, 1, 1],\n",
    "       [0, 0, 0, 1, 0, 0, 1],\n",
    "       [0, 0, 0, 1, 0, 0, 1],\n",
    "       [0, 0, 0, 1, 1, 1, 0]])\n",
    "\n",
    "expected_dist = np.array([[0,1,1,2,3,3,3],\n",
    "                          [1,0,1,1,2,2,2],\n",
    "                          [1,1,0,2,3,3,3],\n",
    "                          [2,1,2,0,1,1,1],\n",
    "                          [3,2,3,1,0,2,1],\n",
    "                          [3,2,3,1,2,0,1],\n",
    "                          [3,2,3,1,1,1,0]])"
   ]
  },
  {
   "cell_type": "code",
   "execution_count": 90,
   "metadata": {},
   "outputs": [
    {
     "output_type": "stream",
     "name": "stdout",
     "text": "[[ 0.  1.  1. inf inf inf inf]\n [ 1.  0.  1. inf inf inf inf]\n [ 1.  1.  0. inf inf inf inf]\n [inf inf inf  0.  1.  1.  1.]\n [inf inf inf  1.  0.  2.  1.]\n [inf inf inf  1.  2.  0.  1.]\n [inf inf inf  1.  1.  1.  0.]]\n"
    }
   ],
   "source": [
    "num_vertices = mat.shape[0]\n",
    "res = np.full((num_vertices, num_vertices), np.inf)\n",
    "\n",
    "# Finish this loop\n",
    "for i in range(num_vertices):\n",
    "    Q = deque()\n",
    "    # initialize visited vector\n",
    "    visited = np.full((num_vertices), False)\n",
    "    \n",
    "    # set diagonal elements to distance of 0\n",
    "    np.fill_diagonal(res,0)\n",
    "    \n",
    "    # set first vertex in queue and set as visited\n",
    "    Q.append([i, 0])\n",
    "    visited[i] = True\n",
    "\n",
    "    # run through network while there are still vertices left in the queue\n",
    "    while Q:\n",
    "        # current reference distance\n",
    "        distance = Q[0][1]\n",
    "\n",
    "        # determine adjacent vertices\n",
    "        adj_vert = np.where(mat[Q[0][0]] > 0)[0]\n",
    "        \n",
    "        # run if there exists any adjacent vertices\n",
    "        if adj_vert.any():\n",
    "            \n",
    "            # filter out vertices that have already been visited\n",
    "            adj_vert = [vert for vert in adj_vert if visited[vert] == False]\n",
    "            \n",
    "            # add adjacent vertices to queue and set them as visited\n",
    "            [Q.append([vert,distance + 1]) for vert in adj_vert]\n",
    "            np.put(visited, adj_vert, True)\n",
    "\n",
    "            # record the distance to the vertices\n",
    "            np.put(res[i], adj_vert,distance+1)\n",
    "            \n",
    "            # remove current vertex from queue\n",
    "            Q.popleft()\n",
    "\n",
    "print(res)"
   ]
  },
  {
   "cell_type": "code",
   "execution_count": 98,
   "metadata": {},
   "outputs": [
    {
     "output_type": "stream",
     "name": "stdout",
     "text": "[list([0, 1, 2]) list([3, 4, 5, 6])]\n[array([0, 1, 2]), array([3, 4, 5, 6])]\n"
    }
   ],
   "source": [
    "dist_mat = res\n",
    "num_vertices = mat.shape[0]\n",
    "available = [True for _ in range(num_vertices)]\n",
    "expected_components = [np.array([0,1,2]), np.array([3,4,5,6])]\n",
    "\n",
    "components = []\n",
    "\n",
    "# finish this loop\n",
    "while any(available):\n",
    "    current_node = available.index(True)\n",
    "\n",
    "    components.append(np.where(dist_mat[current_node] < np.inf)[0].tolist())\n",
    "    available[current_node] = False\n",
    "\n",
    "components = np.unique(components)\n",
    "print(components)\n",
    "print(expected_components)"
   ]
  },
  {
   "cell_type": "code",
   "execution_count": null,
   "metadata": {},
   "outputs": [],
   "source": []
  },
  {
   "cell_type": "code",
   "execution_count": null,
   "metadata": {},
   "outputs": [],
   "source": []
  }
 ],
 "metadata": {
  "language_info": {
   "codemirror_mode": {
    "name": "ipython",
    "version": 3
   },
   "file_extension": ".py",
   "mimetype": "text/x-python",
   "name": "python",
   "nbconvert_exporter": "python",
   "pygments_lexer": "ipython3",
   "version": "3.7.7-final"
  },
  "orig_nbformat": 2,
  "kernelspec": {
   "name": "af9d34cc-dee0-4875-8b0a-f0dbc967534f",
   "display_name": "'Python Interactive'"
  }
 },
 "nbformat": 4,
 "nbformat_minor": 2
}